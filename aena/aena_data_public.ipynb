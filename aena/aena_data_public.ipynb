{
 "cells": [
  {
   "cell_type": "markdown",
   "metadata": {},
   "source": [
    "<a id='Index'></a>"
   ]
  },
  {
   "cell_type": "markdown",
   "metadata": {},
   "source": [
    "### <font color='blue'>Índice</font>\n",
    "\n",
    "Este Jupyter Notebook consta de los siguientes apartados:\n",
    "\n",
    "1) [Introducción al Notebook aena_dataset](#Section0)<br>\n",
    "2) [Glosario de Variables y Constantes](#Section1)<br>\n",
    "3) [Código Principal](#Section2)<br>\n",
    "4) [Últimos ajustes](#Section3)<br>\n",
    "5) [Creación del archivo csv/xls](#Section4)<br>\n",
    "6) [Actualización del archivo csv/xls](#Section5)<br>\n",
    "7) [Visualización de datos](#Section6)\n"
   ]
  },
  {
   "cell_type": "markdown",
   "metadata": {},
   "source": [
    "<a id='Section0'></a>"
   ]
  },
  {
   "cell_type": "markdown",
   "metadata": {},
   "source": [
    "### <font color='blue'>Introducción al Notebook aena_dataset</font>\n",
    "\n",
    "Aena publica mensualmente en su web (tanto en archivo excel como en PDF), los datos del tráfico aéreo de pasajeros, operaciones y mercancías (kg) en los aeropuertos españoles gestionados por ellos (o alguna de sus filiales). Estos datos se remontan a 2004.\n",
    "\n",
    "A la hora de querer usar estos datos para crear nuestros gráficos, ver tendencias por temporada o la progresión en el tiempo de algún aeropuerto en concreto, tal y como están presentados los datos resulta complejo de realizar. Es por ello que hemos creado este código de python; el objetivo es crear un archivo que aune todos los datos otorgados por Aena y, sobretodo, estructurarlo y ordenarlo para facilitar su uso posterior. El archivo 'salida' es un archivo .csv (también añadimos la opción de obtener una hoja de excel, si bien pasar de uno a otro no debería suponer ningun problema), que se puede utilizar para visualizar datos, alimentar una Base de Datos o usarlo en algún software de análisis de datos, entre otras cosas.\n",
    "\n",
    "Para lograr este fin, la herramienta utilizada es Jupyter Notebook (un IDE de Python). Además del archivo .csv/xls mencionado, también se facilita el Notebook (tanto en formato .ipynb como en .py), por si alguno de los lectores se maneja con este lenguaje de programación y quiere 'trastear'. Todo comentario al respecto es bienvenido y espero que le sea útil o interesante a alguien.\n",
    "\n",
    "PD. Los datos recogidos son desde 2010, ya que las hojas excel de años anteriores dan problemas con el código (se tratará de solventar este problema para tener todos los datos desde 2004).<br>\n",
    "PD2. El código se irá revisando con frecuencia para su optimización.\n",
    "\n",
    "[Volver al índice](#Index)"
   ]
  },
  {
   "cell_type": "markdown",
   "metadata": {},
   "source": [
    "<a id='Section1'></a>"
   ]
  },
  {
   "cell_type": "markdown",
   "metadata": {},
   "source": [
    "### <font color=\"blue\">Glosario de Variables y Constantes</font>\n",
    "\n",
    "1) <b>month</b>: Lista con los meses del año<br>\n",
    "2) <b>year</b>: Lista de strings numéricos que relacionan los años desde 2010 con su orden secuencial<br>\n",
    "3) <b>root_dict</b>: Diccionario cuyos valores son listas de tuplas. Necesario para obtener los links de Aena sin web scraping<br>\n",
    "4) <b>url_aena</b>: Es una lista de los links de Aena, que se construye por una iteración de concatenación de strings<br>\n",
    "5) <b>traffic_df</b>: Primer DataFrame en aparecer. Es el DataFrame en bruto de cada excel de Aena<br>\n",
    "6) <b>dataset</b>: Es una función que realiza una serie de transformaciones para obtener el DataFrame 'pulido'.<br>\n",
    "7) <b>dataset_net</b>: Previa a la creación del archivo .csv se requiere hacer unos reemplazos por inconsistencia en los datos de Aena<br>\n",
    "8) <b>aena_dataset</b>: Es el DataFrame salida de las funciones dataset y dataset_net. Es el que vamos a usar para visualización de datos, manipulación, transformación, etc.\n",
    "\n",
    "[Volver al índice](#Index)"
   ]
  },
  {
   "cell_type": "markdown",
   "metadata": {},
   "source": [
    "<a id='Section2'></a>"
   ]
  },
  {
   "cell_type": "markdown",
   "metadata": {},
   "source": [
    "### <font color='Blue'>Código Principal</font>\n",
    "\n",
    "A continuación se presenta el Código Principal de este Notebook. Para realizar las transformaciones necesarias, primero hay que idear un método de obtención de los datos desde la página web de Aena.\n",
    "\n",
    "[Volver al índice](#Index)"
   ]
  },
  {
   "cell_type": "code",
   "execution_count": null,
   "metadata": {},
   "outputs": [],
   "source": [
    "#####################################################################\n",
    "#Cargamos las librerias que vamos a utilizar para el Código Principal\n",
    "#####################################################################\n",
    "\n",
    "import pandas as pd\n",
    "import calendar\n",
    "import locale"
   ]
  },
  {
   "cell_type": "code",
   "execution_count": null,
   "metadata": {},
   "outputs": [],
   "source": [
    "#############################\n",
    "#Definimos algunas constantes\n",
    "#############################\n",
    "\n",
    "locale.setlocale(locale.LC_ALL, 'es_ES')\n",
    "\n",
    "year = []\n",
    "for i in range(11):\n",
    "    year.append(str(2010 + i))\n",
    "month = []\n",
    "for i in range(13):\n",
    "    month.append(calendar.month_name[i].capitalize())\n",
    "month.pop(0)\n",
    "\n",
    "###############################################################################################################################\n",
    "#La siguiente variable es necesaria si no consideramos web scraping. Son números que aparecen en las urls de Aena y que no \n",
    "#siguen ningún orden que podamos automatizar\n",
    "###############################################################################################################################\n",
    "\n",
    "root = [[(8,1012),(751,810),(336,99),(688,180),(43,295),(957,890),(384,673),(653,407),(855,829),(1023,205),(391,623),\n",
    "        (191,1022)],[(905,889),(624,688),(209,1001),(561,58),(940,172),(830,768),(257,551),(526,285),(728,707),(896,83),\n",
    "        (264,501),(64,900)],[(438,866),(221,786),(766,984),(94,958),(407,476),(747,816),(814,48),(825,34),(899,331),\n",
    "        (493,371),(821,579),(621,955)],[(1005,529),(531,7),(307,682),(658,160),(456,1019),(285,53),(351,838),(845,254),\n",
    "        (504,562),(582,762),(589,651),(516,526)],[(529,560),(683,5),(523,609),(972,716),(866,146),(737,1023),(95,819),\n",
    "        (189,287),(178,329),(792,174),(689,836),(794,238)],[(754,192),(845,124),(178,74),(692,915),(441,589),(903,996),\n",
    "        (454,860),(753,107),(965,148),(599,94),(981,649),(667,360)],[(819,681),(910,613),(1007,255),(625,431),(314,467),\n",
    "        (776,874),(327,738),(626,1009),(838,26),(472,996),(370,274),(540,238)],[(692,559),(783,491),(48,745),(690,920),\n",
    "        (379,956),(841,339),(392,203),(691,474),(903,515),(537,461),(435,763),(605,727)],[(565,437),(656,369),(945,622),\n",
    "        (311,663),(252,834),(714,217),(265,81),(564,352),(776,393),(410,339),(308,641),(478,605)],[(438,315),(529,247),\n",
    "        (818,500),(436,676),(125,712),(587,95),(138,983),(437,230),(649,271),(283,217),(181,519),(351,483)],[(424,132),\n",
    "        (79,556),(912,375),(80,325),(937,665),(227,647),(800,817),(587,699),(917,183),(815,717)]]\n",
    "root_dict = dict(zip(year,root))"
   ]
  },
  {
   "cell_type": "code",
   "execution_count": null,
   "metadata": {},
   "outputs": [],
   "source": [
    "##########################################################################################################################\n",
    "#Creamos una lista con las rutas de los excel que contienen los datos. El hecho de que las rutas que otorga Aena no sigan\n",
    "#siempre el mismo patrón año tras año (incluso dentro de un mismo año), es lo que nos lleva a una definición de u_a algo\n",
    "#más tediosa\n",
    "##########################################################################################################################\n",
    "\n",
    "url_aena = []\n",
    "\n",
    "for i in range(10):\n",
    "    for j in range(12):\n",
    "        u_a = 'https://wwwssl.aena.es/csee/ccurl/' + str(root_dict[year[i]][j][0]) + '/' + str(root_dict[year[i]][j][1])\n",
    "        if (i not in (3,4)) and (j < 9):\n",
    "            u_a = u_a + '/0'\n",
    "        elif (i not in (3,4) and (j >= 9)) or (i == 4):\n",
    "            u_a = u_a + '/'\n",
    "        if (i == 6 and j < 2) or (i > 6):\n",
    "            u_a = u_a + str(j+1) + '.' + month[j] + '_Definitivo_' + year[i] + '.xls'    \n",
    "        elif (i == 6 and j >=2) or (i == 5 and (j <= 9 or j == 11)):\n",
    "            u_a = u_a + str(j+1) + '.' + month[j] + '-Definitivo-' + year[i] + '.xls'\n",
    "        elif (i == 5 and j == 10):\n",
    "            u_a = u_a + str(j+1) + '.' + month[j] + '-Definitivo-%20' + year[i] + '.xls'    \n",
    "        elif i == 4:\n",
    "            u_a = u_a + month[j] + '-Definitivo%20' + year[i] + '.xls'\n",
    "        elif i == 3:\n",
    "            u_a = u_a + '/Estadistica%20' + month[j] + '%20DEF%20' + year[i] + '.xls'            \n",
    "        elif i == 2:\n",
    "            u_a = u_a + str(j+1) + '.Estadisticas_' + month[j] + '%20DEF_' + year[i] + '.xls'\n",
    "        elif i in (0,1):\n",
    "            u_a = u_a + str(j+1) + '_Estadisticas_' + month[j] + '_' + year[i] + '.xls'\n",
    "        url_aena.append(u_a)\n",
    "                \n",
    "i = 10\n",
    "for j in range(10):\n",
    "    u_a = 'https://wwwssl.aena.es/csee/ccurl/' + str(root_dict[year[i]][j][0]) + '/' + str(root_dict[year[i]][j][1]) + '/'\n",
    "    if j != 2:\n",
    "        u_a = u_a + str(j+1) + '.Estadisticas_' + month[j] + '_' + year[i] + '.xls'\n",
    "    if j == 2:\n",
    "        u_a = u_a + str(j+1) + '.Estadisticas_' + month[j] + '_' + year[i] + '%20(1)' + '.xls'\n",
    "    url_aena.append(u_a)"
   ]
  },
  {
   "cell_type": "code",
   "execution_count": null,
   "metadata": {},
   "outputs": [],
   "source": [
    "#######################################################\n",
    "#Opcional - En caso de que queramos ver un url concreto\n",
    "#######################################################\n",
    "\n",
    "#print(url_aena[0])\n",
    "\n",
    "################################################################################\n",
    "#Realizamos las transformaciones requeridas para estructurar y ordenar los datos\n",
    "################################################################################\n",
    "\n",
    "def dataset(url_aena):\n",
    "    traffic_df_list = []\n",
    "    c_drop = [0,1,3,5,6,9,10,13] #Columnas a eliminar del archivo origen, son siempre las mismas a diferencia de las filas\n",
    "    traffic_df_net_list = []\n",
    "    for j in range(len(url_aena)):\n",
    "        #print(j) #-> Lo usamos para comprobación. Una vez realizada, prescindimos de este print que solo consume recursos\n",
    "        traffic_df = pd.read_excel(url_aena[j])\n",
    "        traffic_df_list.append(traffic_df)\n",
    "    \n",
    "        r_drop = [] #Filas a eliminar del archivo origen, definido más abajo\n",
    "        for i in range(traffic_df_list[j].shape[0]):\n",
    "            if (type(traffic_df_list[j].iloc[i,4]) != int and (traffic_df_list[j].iloc[i,4]) != '---')\\\n",
    "            or (traffic_df_list[j].iloc[i,2].upper() == 'TOTAL'):\n",
    "                r_drop.append(i)\n",
    "        for numbers in c_drop: \n",
    "            traffic_df_list[j] = traffic_df_list[j].drop(['Unnamed: ' + str(numbers)], axis = 1)\n",
    "        for numbers in r_drop:\n",
    "            traffic_df_list[j] = traffic_df_list[j].drop([numbers])\n",
    "    \n",
    "        value_list = []\n",
    "        for i in range(3):\n",
    "            value = traffic_df_list[j][[traffic_df_list[j].columns[2*i],traffic_df_list[j].columns[2*i+1]]].\\\n",
    "            sort_values([traffic_df_list[j].columns[2*i]])\n",
    "            value.index = range(value.shape[0])\n",
    "            value_list.append(value)\n",
    "        traffic_df_net = pd.concat(value_list, axis = 1)\n",
    "        traffic_df_net.insert(1,'MONTH',(j%12)+1)\n",
    "        traffic_df_net.insert(2,'YEAR',year[j//12])\n",
    "        traffic_df_net_list.append(traffic_df_net)\n",
    "\n",
    "    dataset = pd.concat(traffic_df_net_list)\n",
    "    dataset.columns = ('AIRPORTS','MONTH','YEAR','PAX','AIRPORTS2','MOVEMENTS','AIRPORTS3','CARGO (KG)')\n",
    "    dataset = dataset.drop(['AIRPORTS2','AIRPORTS3'], axis = 1)\n",
    "    dataset.index = range(dataset.shape[0])\n",
    "    return dataset\n",
    "\n",
    "aena_dataset = dataset(url_aena)\n",
    "display(aena_dataset)"
   ]
  },
  {
   "cell_type": "markdown",
   "metadata": {},
   "source": [
    "<a id='Section3'></a>"
   ]
  },
  {
   "cell_type": "markdown",
   "metadata": {},
   "source": [
    "### <font color='blue'>Últimos ajustes</font>\n",
    "\n",
    "En la anterior celda ya podéis ver el DataFrame con todos los datos desde enero de 2010 hasta los últimos datos presentados \n",
    "por Aena de octubre de 2020. Si bien ya podríamos crear el archivo .csv y/o .xls, hay dos pasos previos que hay que realizar debido\n",
    "a cómo están presentados los datos:\n",
    "\n",
    "a) Al parecer, algunos datos de 2013 aparecen como '---' en lugar de '0', así que vamos a realizar dicho reemplazo.<br>\n",
    "b) Bien porque algunos aeropuertos han ido cambiando de nombre con el tiempo (como es el caso de Barajas), o bien porque\n",
    "Aena en los datos no ha mantenido tipográficamente el mismo nombre de algunos aeropuertos, vamos a realizar reemplazos de tal manera que haya una relación unívoca entre nombre y aeropuerto.\n",
    "\n",
    "[Volver al índice](#Index)"
   ]
  },
  {
   "cell_type": "code",
   "execution_count": null,
   "metadata": {},
   "outputs": [],
   "source": [
    "#######################################################################################################################\n",
    "#En primer lugar vamos a identificar los aeropuertos que aparecen, para solventar el problema mencionado en el punto b)\n",
    "#del anterior párrafo. Luego creamos una lista con los nombres definitivos de aquellos aeropuertos que tienen más de un\n",
    "#nombre en los datos de Aena y realizamos los cambios para resolver los puntos a) y b)\n",
    "#######################################################################################################################\n",
    "\n",
    "def dataset_net(dataset):\n",
    "    Name_Def = ['ADOLFO SUAREZ MADRID-BARAJAS','AEROPUERTO INTL. REGION MURCIA','ALGECIRAS-HELIPUERTO','ALICANTE-ELCHE',\n",
    "           'BARCELONA-EL PRAT J.T.','CEUTA-HELIPUERTO','GIRONA-COSTA BRAVA','LANZAROTE-CESAR MANRIQUE','MALAGA-COSTA DEL SOL',\n",
    "           'MURCIA-SAN JAVIER','SANTIAGO-ROSALIA DE CASTRO','SEVE BALLESTEROS-SANTANDER','TENERIFE NORTE-C. LA LAGUNA',\n",
    "           'TENERIFE SUR']\n",
    "    Name_Alt = [['ADOLFO SUÁREZ MADRID-BARAJAS','MADRID-BARAJAS'],['AEROPUERTO INTL. REGIÓN MURCIA','AEROPUERTO INTL. REGIÓN MURCIA  (**)'],\n",
    "           ['ALGECIRAS /HELIPUERTO'],['ALICANTE'],['BARCELONA','BARCELONA-EL PRAT'],['CEUTA /HELIPUERTO'],['GIRONA'],['LANZAROTE',\n",
    "            'LANZAROTE CÉSAR MANRIQUE'],['MALAGA'],['MURCIA-SAN JAVIER  (*)'],['SANTIAGO','SANTIAGO-ROSALÍA DE CASTRO'],\n",
    "            ['SANTANDER'],['TENERIFE NORTE','TENERIFE-NORTE'],['TENERIFE-SUR']]\n",
    "\n",
    "    for j in range(dataset.shape[1]):\n",
    "        for i in range(dataset.shape[0]):\n",
    "            if dataset.iloc[i,j] == '---':\n",
    "                dataset.iloc[i,j] = int(0)\n",
    "            for k in range(len(Name_Def)):\n",
    "                if dataset.iloc[i,j] in Name_Alt[k]:\n",
    "                    dataset.iloc[i,j] = Name_Def[k]\n",
    "    return dataset\n",
    "\n",
    "aena_dataset = dataset_net(aena_dataset)\n",
    "aena_dataset = aena_dataset.sort_values(['YEAR','MONTH','AIRPORTS'])\n",
    "aena_dataset.index = range(aena_dataset.shape[0])"
   ]
  },
  {
   "cell_type": "markdown",
   "metadata": {},
   "source": [
    "<a id='Section4'></a>"
   ]
  },
  {
   "cell_type": "markdown",
   "metadata": {},
   "source": [
    "### <font color='blue'>Creación del archivo csv/xls</font>\n",
    "\n",
    "Teniendo ya el DataFrame listo, crear los archivos .csv y .xls es inmediato. Solo hay que particularizar la ruta donde vamos a almacenar los archivos.\n",
    "\n",
    "[Volver al índice](#Index)"
   ]
  },
  {
   "cell_type": "code",
   "execution_count": null,
   "metadata": {},
   "outputs": [],
   "source": [
    "aena_dataset.to_csv('root/filename.csv') #Sustituir por la ruta y nombre de archivo elegido\n",
    "aena_dataset.to_excel('root/filename.xls') #Sustituir por la ruta y nombre de archivo elegido"
   ]
  },
  {
   "cell_type": "markdown",
   "metadata": {},
   "source": [
    "<a id='Section5'></a>"
   ]
  },
  {
   "cell_type": "markdown",
   "metadata": {},
   "source": [
    "### <font color='blue'>Actualización del archivo csv/xls</font>\n",
    "Para finales de la primera semana de cada mes, Aena publica un archivo excel (y un archivo PDF) con los datos del mes anterior. Si queremos actualizar nuestro archivo .csv con los nuevos datos, deberemos realizar lo siguiente:\n",
    "\n",
    "[Volver al índice](#Index)"
   ]
  },
  {
   "cell_type": "code",
   "execution_count": null,
   "metadata": {},
   "outputs": [],
   "source": [
    "aena_dataset = pd.read_csv('root/filename.csv') #Sustituir por la ruta y nombre de archivo donde se encuentra\n",
    "\n",
    "aena_dataset = aena_dataset.drop(['Unnamed: 0'], axis = 1)\n",
    "airport_number_prev = len(aena_dataset['AIRPORTS'].unique())\n",
    "url_aena = [] #Insertamos la url de la página de Aena con el mes que queremos añadir a nuestro archivo\n",
    "\n",
    "aena_dataset_update = dataset(url_aena)\n",
    "aena_dataset = pd.concat(aena_dataset,aena_dataset_update)\n",
    "\n",
    "airport_number_aft = len(aena_dataset_update['AIRPORTS'].unique())\n",
    "if airport_number_prev != airport_number_aft:\n",
    "    print('Hay que revisar la última entrada de datos, ya faltan aeropuertos o han aumentado/disminuido\\\n",
    "el número de aeropuertos gestionados por Aena')\n",
    "else:\n",
    "    dataset_net(aena_dataset)\n",
    "\n",
    "aena_dataset.to_csv('root/filename.csv') #Sustituir por la ruta y nombre de archivo donde se encuentra\n",
    "aena_dataset.to_excel('root/filename.xls') #Sustituir por la ruta y nombre de archivo donde se encuentra"
   ]
  },
  {
   "cell_type": "markdown",
   "metadata": {},
   "source": [
    "<a id='Section6'></a>"
   ]
  },
  {
   "cell_type": "markdown",
   "metadata": {},
   "source": [
    "### <font color='blue'>Visualización de datos</font>\n",
    "\n",
    "Como un añadido al Código Principal y al archivo de salida csv/xls, a continuación dejamos algunas de las conclusiones y/o visualizaciones de datos que podemos obtener con los datos de Aena. En algunos casos vamos a importar librerias o DataFrames que aparecen en el Código Principal; esto solo es necesario si en la sesión que os encontráis no habeís ejecutado el Código Principal.<br>\n",
    "\n",
    "La segunda celda, justo después de importar las librerías que vamos a usar, nos va a servir para conocer el nº de aeropuertos involucrados y si ha habido aumento/disminución del número de aeropuertos desde 2010.\n",
    "\n",
    "[Volver al índice](#Index)"
   ]
  },
  {
   "cell_type": "code",
   "execution_count": null,
   "metadata": {},
   "outputs": [],
   "source": [
    "###########################################################################\n",
    "#Cargamos las librerias que vamos a utilizar para la visualización de datos\n",
    "###########################################################################\n",
    "\n",
    "import pandas as pd #Volvemos a cargarlo por si no estamos ejecutando el Código Principal\n",
    "import math\n",
    "import seaborn as sbn\n",
    "import matplotlib.pyplot as plt\n",
    "import numpy as np\n",
    "import calendar #Volvemos a cargarlo por si no estamos ejecutando el Código Principal\n",
    "import locale #Volvemos a cargarlo por si no estamos ejecutando el Código Principal"
   ]
  },
  {
   "cell_type": "code",
   "execution_count": null,
   "metadata": {},
   "outputs": [],
   "source": [
    "##################################################################################################################\n",
    "#Si vamos a realizar solo esta parte del código (en caso de que tuvieramos previamente los datos ya cargados en un \n",
    "#archivo .csv), hay que realizar previamente lo siguiente:\n",
    "##################################################################################################################\n",
    "\n",
    "aena_dataset = pd.read_csv('root/filename.csv') #Sustituir por la ruta y nombre de archivo donde se encuentra\n",
    "aena_dataset = aena_dataset.drop(['Unnamed: 0'], axis = 1)\n",
    "\n",
    "#################################################################\n",
    "#Analizamos previamente los aeropuertos involucrados en los datos\n",
    "#################################################################\n",
    "\n",
    "airports = list(aena_dataset['AIRPORTS'].unique())\n",
    "print('El número de aeropuertos/helipuertos gestionados por Aena o alguna de sus filiales, desde 2010, es de',len(airports))\n",
    "locale.setlocale(locale.LC_ALL, 'es_ES')\n",
    "month = []\n",
    "for i in range(13):\n",
    "    month.append(calendar.month_name[i].capitalize())\n",
    "month.pop(0)\n",
    "\n",
    "airports_not_complete = set()\n",
    "for i in range(len(airports)):\n",
    "    for j in range(len(month)):\n",
    "        prueba = aena_dataset[(aena_dataset['AIRPORTS'] == airports[i]) & (aena_dataset['MONTH'] == j+1)]\n",
    "        if prueba.shape[0] != 11 and month[j] not in ('Noviembre','Diciembre'):\n",
    "            airports_not_complete.add(airports[i])\n",
    "\n",
    "print()\n",
    "print('A los siguientes aeropuertos/helipuertos les faltan datos en algún mes o meses por falta de datos de Aena o porque', \n",
    "'no estaba operativo/gestionado por Aena',airports_not_complete)"
   ]
  },
  {
   "cell_type": "markdown",
   "metadata": {},
   "source": [
    "Por un lado hemos obtenido que desde 2010, Aena ha gestionado un total de 50 (48 aeropuertos y 2 helipuertos). Sabemos que actualmente gestiona 45 aeropuertos + el aeropuerto Internacional Región de Murcia a través de una filial + 2 helipuertos, con lo cual hay dos aeropuertos que aparecen en nuestros datos y que ya no gestiona Aena.<br>\n",
    "\n",
    "El segundo dato obtenido son los aeropuertos/helipuertos que no tienen todos los datos desde 2010, con lo cual, de los 4 obtenidos, 2 de ellos tienen que ser los que ya no están gestionados por Aena. Analizamos cada uno:<br>\n",
    "\n",
    "1) <b>Aeropuerto de San Javier, Murcia</b>: Es uno de los dos aeropuertos que ya no gestiona Aena, concretamente no hay datos desde mediados de enero de 2019.<br>\n",
    "2) <b>Aeropuerto Intl. Región de Murcia</b>: Comienza a ser gestionado por la filial de Aena en enero de 2019, coincidiendo con el cese de la gestión del Aeropuerto de San Javier.<br>\n",
    "3) <b>Helipuerto de Algeciras</b>: Es un caso raro que aparezca aquí, ya que la ausencia de datos es en algunos meses puntuales. Desconocemos si la omisión de esos datos puntuales es por error a la hora de publicar Aena los excel o hay otro motivo.<br>\n",
    "4) <b>Aeropuerto de Torrejón, Madrid</b>: Es el segundo aeropuerto que dejó de gestionar Aena, en enero de 2013 (hay entradas en el resto de meses de 2013 pero todos ellos nulos)."
   ]
  },
  {
   "cell_type": "code",
   "execution_count": null,
   "metadata": {},
   "outputs": [],
   "source": [
    "#####################################################################\n",
    "#Vamos a empezar con datos pre-COVID, dejando fuera los datos de 2020\n",
    "#####################################################################\n",
    "\n",
    "##################################################################################\n",
    "#¿Cuál es el top 5 de aeropuertos con mayor media de tráfico de pasajeros en 2019?\n",
    "##################################################################################\n",
    "\n",
    "pax = aena_dataset[(aena_dataset['YEAR'] == 2019) & (aena_dataset['AIRPORTS'] != 'MURCIA-SAN JAVIER')]\n",
    "pax = pax[[pax.columns[0],pax.columns[3]]]\n",
    "pax = pax.groupby(['AIRPORTS']).mean()\n",
    "pax = pax.sort_values(['PAX'], ascending = 0)\n",
    "\n",
    "print('Los cinco aeropuertos con mayor media mensual de PASAJEROS en 2019 fueron los de:')\n",
    "for i in range(5):\n",
    "    print(j+1,pax.index[i],'con',math.ceil(pax.iloc[i,0]),'pasajeros.')\n",
    "\n",
    "####################################\n",
    "#¿Lo mismo para operaciones y carga?\n",
    "####################################\n",
    "\n",
    "kind = ['MOVEMENTS','CARGO (KG)']\n",
    "kind_esp = ['OPERACIONES','KG DE MERCANCIA']\n",
    "for i in range(2):\n",
    "    traffic = aena_dataset[(aena_dataset['YEAR'] == 2019) & (aena_dataset['AIRPORTS'] != 'MURCIA-SAN JAVIER')]\n",
    "    traffic = traffic[[traffic.columns[0],traffic.columns[i+4]]]\n",
    "    traffic = traffic.groupby(['AIRPORTS']).mean().astype(int)\n",
    "    traffic = traffic.sort_values([kind[i]], ascending = 0)\n",
    "\n",
    "    print()\n",
    "    print('Los cinco aeropuertos con mayor media mensual de',kind_esp[i],'en 2019 fueron los de:')\n",
    "    for j in range(5):\n",
    "        print(j+1,traffic.index[j],'con',math.ceil(pax.iloc[j,0]),kind_esp[i])\n"
   ]
  },
  {
   "cell_type": "code",
   "execution_count": null,
   "metadata": {},
   "outputs": [],
   "source": [
    "###########################################################################\n",
    "#Las mismas preguntas de antes pero ahora con los 5 aeropuertos por la cola\n",
    "###########################################################################\n",
    "\n",
    "kind = ['PAX','MOVEMENTS','CARGO (KG)']\n",
    "kind_esp = ['PASAJEROS','OPERACIONES','KG DE MERCANCIA']\n",
    "for i in range(3):\n",
    "    traffic = aena_dataset[(aena_dataset['YEAR'] == 2019) & (aena_dataset['AIRPORTS'] != 'MURCIA-SAN JAVIER')]\n",
    "    traffic = traffic[[traffic.columns[0],traffic.columns[i+3]]]\n",
    "    traffic = traffic.groupby(['AIRPORTS']).mean().astype(int)\n",
    "    traffic = traffic.sort_values([kind[i]], ascending = 1)\n",
    "    \n",
    "    print()\n",
    "    print('Los cinco aeropuertos con menor media mensual de',kind_esp[i],'en 2019 fueron los de:')\n",
    "    for j in range(5):\n",
    "        print(j+1,traffic.index[j],'con',math.ceil(traffic.iloc[j,0]),kind_esp[i])"
   ]
  },
  {
   "cell_type": "code",
   "execution_count": null,
   "metadata": {},
   "outputs": [],
   "source": [
    "###############################################################################################\n",
    "#¿Cuál es el aeropuerto que, en media de pasajeros, ha crecido más en el 2019 respecto de 2018?\n",
    "###############################################################################################\n",
    "\n",
    "pax = aena_dataset[((aena_dataset['YEAR'] == 2018) | (aena_dataset['YEAR'] == 2019)) & \\\n",
    "                   ((aena_dataset['AIRPORTS'] != 'AEROPUERTO INTL. REGION MURCIA') &\\\n",
    "                   (aena_dataset['AIRPORTS'] != 'MURCIA-SAN JAVIER'))]\n",
    "pax = pax.drop(['MONTH','MOVEMENTS','CARGO (KG)'], axis = 1)\n",
    "pax = pax.groupby(['AIRPORTS','YEAR']).sum()\n",
    "\n",
    "var = []\n",
    "for i in range(0,pax.shape[0],2):\n",
    "    var_i = round((pax.iloc[i+1,0]/pax.iloc[i,0]-1)*100,2)\n",
    "    var.append(var_i)\n",
    "    #print('El aeropuerto',pax.index[i][0],'ha crecido/decrecido su actividad en un',var_i) ->Podéis hacer un print para ver\n",
    "    #el % de crecimiento/decrecimiento que cada aeropuerto tuvo en 2019 respecto de 2018\n",
    "var.index(max(var))\n",
    "print('El aeropuerto que más creció en pasajeros en 2019, respecto de 2018, fue el aeropuerto de',pax.index[var.index(max(var))*2][0],\\\n",
    "      'con un crecimiento del',max(var),'%')\n",
    "\n",
    "###################################################################\n",
    "#¿Y si lo que quiero son los cinco aeropuertos que más han crecido?\n",
    "###################################################################\n",
    "\n",
    "var_s = sorted(var,reverse = 1)\n",
    "var_s_indx = []\n",
    "for i in range(5):\n",
    "    for j in range(len(var)):\n",
    "        if var_s[i] == var[j]:\n",
    "            var_s_indx.append(2*j)\n",
    "\n",
    "print()            \n",
    "print('Los cinco aeropuertos/helipuertos que más han crecido en pasajeros en 2019, respecto de 2018, fueron los aeropuertos de:')\n",
    "for i in range(5):\n",
    "    print(i+1,pax.index[var_s_indx[i]][0],'con un crecimiento del',var_s[i],'%')"
   ]
  },
  {
   "cell_type": "code",
   "execution_count": null,
   "metadata": {},
   "outputs": [],
   "source": [
    "####################################################################\n",
    "#Queremos ver la evolución mensual del tráfico en las islas baleares\n",
    "####################################################################\n",
    "\n",
    "ibalear = aena_dataset[(aena_dataset['YEAR'] != 2020) & ((aena_dataset['AIRPORTS'] == 'PALMA DE MALLORCA') | \\\n",
    "                                                       (aena_dataset['AIRPORTS'] == 'IBIZA') | \\\n",
    "                                                       (aena_dataset['AIRPORTS'] == 'MENORCA'))]\n",
    "ibalear = ibalear.drop(['YEAR','MOVEMENTS','CARGO (KG)'], axis = 1)\n",
    "plot = sbn.lineplot(x=\"MONTH\", y=\"PAX\", hue='AIRPORTS', data = ibalear)"
   ]
  },
  {
   "cell_type": "code",
   "execution_count": null,
   "metadata": {},
   "outputs": [],
   "source": [
    "####################################################################################\n",
    "#Si queremos ver cómo ha afectado el COVID-19 al Aeropuerto de Adolfo Suárez-Barajas\n",
    "####################################################################################\n",
    "\n",
    "madrid = aena_dataset[((aena_dataset['YEAR'] == 2020) | (aena_dataset['YEAR'] == 2019))  & (aena_dataset['AIRPORTS'] == 'ADOLFO SUAREZ MADRID-BARAJAS')]\n",
    "madrid = madrid.drop(['MOVEMENTS','CARGO (KG)'], axis = 1)\n",
    "madrid = madrid.sort_values(['MONTH','YEAR'])\n",
    "\n",
    "month_str = ['Enero','Febrero','Marzo','Abril','Mayo','Junio','Julio','Agosto','Septiembre','Octubre']\n",
    "var = []\n",
    "for i in range(0,20,2):\n",
    "    var_i = round((madrid.iloc[i+1,3]/madrid.iloc[i,3]-1)*100,2)\n",
    "    var.append(var_i)\n",
    "#for i in range(10):\n",
    "#    print('El aeropuerto Adolfo Suarez Madrid-Barajas ha crecido/decrecido su actividad en',month_str[i],'un',var[i])\n",
    "\n",
    "plt.figure(figsize=(10, 4))\n",
    "plot = sbn.lineplot(x=month_str, y=var,sort=0)\n",
    "plot.set(xlabel='Meses', ylabel='Variación %')\n",
    "plot.set_title('Aeropuerto Adolfo Suárez, Madrid - Evolución de Pasajeros en 2020 respecto de 2019')\n",
    "plt.show()"
   ]
  },
  {
   "cell_type": "code",
   "execution_count": null,
   "metadata": {},
   "outputs": [],
   "source": [
    "###################################################\n",
    "#La misma pregunta en cuanto al movimiento de carga\n",
    "###################################################\n",
    "\n",
    "madrid = aena_dataset[((aena_dataset['YEAR'] == 2020) | (aena_dataset['YEAR'] == 2019))  & (aena_dataset['AIRPORTS'] == 'ADOLFO SUAREZ MADRID-BARAJAS')]\n",
    "madrid = madrid.drop(['PAX','MOVEMENTS'], axis = 1)\n",
    "madrid = madrid.sort_values(['MONTH','YEAR'])\n",
    "\n",
    "month_str = ['Enero','Febrero','Marzo','Abril','Mayo','Junio','Julio','Agosto','Septiembre','Octubre']\n",
    "var = []\n",
    "for i in range(0,20,2):\n",
    "    var_i = round((madrid.iloc[i+1,3]/madrid.iloc[i,3]-1)*100,2)\n",
    "    var.append(var_i)\n",
    "#for i in range(10):\n",
    "#    print('El aeropuerto Adolfo Suarez Madrid-Barajas ha crecido/decrecido su actividad en',month_str[i],'un',var[i])\n",
    "\n",
    "plt.figure(figsize=(10, 4))\n",
    "plot = sbn.lineplot(x=month_str, y=var, sort=0)\n",
    "plot.set(xlabel='Meses', ylabel='Variación %')\n",
    "plot.set_title('Aeropuerto Adolfo Suárez, Madrid - Evolución de Mercancías en 2020 respecto de 2019')\n",
    "plt.show()"
   ]
  },
  {
   "cell_type": "code",
   "execution_count": null,
   "metadata": {},
   "outputs": [],
   "source": []
  }
 ],
 "metadata": {
  "kernelspec": {
   "display_name": "Python 3",
   "language": "python",
   "name": "python3"
  },
  "language_info": {
   "codemirror_mode": {
    "name": "ipython",
    "version": 3
   },
   "file_extension": ".py",
   "mimetype": "text/x-python",
   "name": "python",
   "nbconvert_exporter": "python",
   "pygments_lexer": "ipython3",
   "version": "3.8.3"
  }
 },
 "nbformat": 4,
 "nbformat_minor": 1
}
